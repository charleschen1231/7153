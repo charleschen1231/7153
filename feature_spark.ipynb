{
 "cells": [
  {
   "cell_type": "code",
   "execution_count": 1,
   "metadata": {},
   "outputs": [],
   "source": [
    "from pyspark.sql import SparkSession\n",
    "from pyspark.sql.functions import col, when, concat, lit,count, mean, sum as spark_sum\n",
    "import warnings\n",
    "warnings.filterwarnings('ignore')"
   ]
  },
  {
   "cell_type": "code",
   "execution_count": 2,
   "metadata": {},
   "outputs": [
    {
     "name": "stderr",
     "output_type": "stream",
     "text": [
      "2023-07-13 21:48:10,147 WARN util.NativeCodeLoader: Unable to load native-hadoop library for your platform... using builtin-java classes where applicable\n",
      "Setting default log level to \"WARN\".\n",
      "To adjust logging level use sc.setLogLevel(newLevel). For SparkR, use setLogLevel(newLevel).\n",
      "2023-07-13 21:48:11,591 WARN util.Utils: Service 'SparkUI' could not bind on port 4040. Attempting port 4041.\n"
     ]
    }
   ],
   "source": [
    "spark = SparkSession.builder \\\n",
    "    .appName(\"Read CSV Files with PySpark\") \\\n",
    "    .master(\"local[*]\") \\\n",
    "    .getOrCreate()\n",
    "\n",
    "os_base = \"file:///root/lol/\"\n"
   ]
  },
  {
   "attachments": {},
   "cell_type": "markdown",
   "metadata": {},
   "source": [
    "| Field Name | Description              |\n",
    "|------|----------|\n",
    "| name | Name of the hero    |\n",
    "| id   | Id of the hero |"
   ]
  },
  {
   "cell_type": "code",
   "execution_count": 3,
   "metadata": {},
   "outputs": [
    {
     "name": "stderr",
     "output_type": "stream",
     "text": [
      "                                                                                \r"
     ]
    },
    {
     "name": "stdout",
     "output_type": "stream",
     "text": [
      "+--------+---+\n",
      "|    name| id|\n",
      "+--------+---+\n",
      "|     Jax| 24|\n",
      "|    Sona| 37|\n",
      "|Tristana| 18|\n",
      "+--------+---+\n",
      "only showing top 3 rows\n",
      "\n"
     ]
    }
   ],
   "source": [
    "champs = spark.read.csv(os_base + 'data/champs.csv', header=True, inferSchema=True)\n",
    "champs.show(3)"
   ]
  },
  {
   "attachments": {},
   "cell_type": "markdown",
   "metadata": {},
   "source": [
    "| Field Name | Description              |\n",
    "|------------|--------------------------|\n",
    "| id         | Unique identifier of the match |\n",
    "| gameid     | ID of the match         |\n",
    "| platformid | ID of the platform where the match is located |\n",
    "| queueid    | ID of the queue where the match is located |\n",
    "| seasonid   | ID of the season where the match is located |\n",
    "| duration   | Duration of the match (in seconds) |\n",
    "| creation   | Timestamp of match creation |\n",
    "| version    | Version of the game used in the match |\n",
    "| position   | Participant's position in the match |"
   ]
  },
  {
   "cell_type": "code",
   "execution_count": 4,
   "metadata": {},
   "outputs": [
    {
     "name": "stderr",
     "output_type": "stream",
     "text": [
      "                                                                                \r"
     ]
    },
    {
     "name": "stdout",
     "output_type": "stream",
     "text": [
      "+---+----------+----------+-------+--------+--------+-------------+-------------+\n",
      "| id|    gameid|platformid|queueid|seasonid|duration|     creation|      version|\n",
      "+---+----------+----------+-------+--------+--------+-------------+-------------+\n",
      "| 10|3187427022|      EUW1|    420|       8|    1909|1495068946860|7.10.187.9675|\n",
      "| 11|3187425281|      EUW1|    420|       8|    1693|1495066760778|7.10.187.9675|\n",
      "| 12|3187269801|      EUW1|    420|       8|    1482|1495053375889|7.10.187.9675|\n",
      "+---+----------+----------+-------+--------+--------+-------------+-------------+\n",
      "only showing top 3 rows\n",
      "\n"
     ]
    }
   ],
   "source": [
    "matches = spark.read.csv(os_base + 'data/matches.csv', header=True, inferSchema=True)\n",
    "matches.show(3)"
   ]
  },
  {
   "attachments": {},
   "cell_type": "markdown",
   "metadata": {},
   "source": [
    "| Field Name | Description              |\n",
    "|------------|--------------------------|\n",
    "| id         | Unique identifier of the participant |\n",
    "| matchid    | ID of the match participated by the participant |\n",
    "| player     | ID of the participant |\n",
    "| championid | ID of the hero used by the participant |\n",
    "| ss1        | ID of the participant's Summoner Skill 1 |\n",
    "| ss2        | ID of the participant's Summoner Skill 2 |\n",
    "| role       | Participant's role in the match |\n",
    "| position   | Participant's position in the match |"
   ]
  },
  {
   "cell_type": "code",
   "execution_count": 5,
   "metadata": {},
   "outputs": [
    {
     "name": "stderr",
     "output_type": "stream",
     "text": [
      "                                                                                \r"
     ]
    },
    {
     "name": "stdout",
     "output_type": "stream",
     "text": [
      "+---+-------+------+----------+---+---+-----------+--------+\n",
      "| id|matchid|player|championid|ss1|ss2|       role|position|\n",
      "+---+-------+------+----------+---+---+-----------+--------+\n",
      "|  9|     10|     1|        19|  4| 11|       NONE|  JUNGLE|\n",
      "| 10|     10|     2|       267|  3|  4|DUO_SUPPORT|     BOT|\n",
      "| 11|     10|     3|       119|  7|  4|  DUO_CARRY|     BOT|\n",
      "+---+-------+------+----------+---+---+-----------+--------+\n",
      "only showing top 3 rows\n",
      "\n"
     ]
    }
   ],
   "source": [
    "participants = spark.read.csv(os_base + 'data/participants.csv', header=True, inferSchema=True)\n",
    "participants.show(3)"
   ]
  },
  {
   "attachments": {},
   "cell_type": "markdown",
   "metadata": {},
   "source": [
    "| Field Name              | Description                                                  |\n",
    "|-------------------------|--------------------------------------------------------------|\n",
    "| id                      | Participant ID                                               |\n",
    "| matchid                 | Match ID                                                     |\n",
    "| player                  | Player number in the match                                   |\n",
    "| championid              | ID of the used hero                                          |\n",
    "| ss1                     | Summoner Skill 1                                             |\n",
    "| ss2                     | Summoner Skill 2                                             |\n",
    "| role                    | Player role (e.g., SOLO; DUO_SUPPORT; DUO_CARRY; NONE)       |\n",
    "| position                | Player position (e.g., TOP; JUNGLE; MID; BOT)                |\n",
    "| win                     | Match win status                                             |\n",
    "| item1                   | Item 1                                                       |\n",
    "| item2                   | Item 2                                                       |\n",
    "| item3                   | Item 3                                                       |\n",
    "| item4                   | Item 4                                                       |\n",
    "| item5                   | Item 5                                                       |\n",
    "| item6                   | Item 6                                                       |\n",
    "| trinket                 | Item 7                                                       |\n",
    "| kills                   | Number of kills                                              |\n",
    "| deaths                  | Number of deaths                                             |\n",
    "| assists                 | Number of assists                                            |\n",
    "| largestkillingspree     | Largest killing spree                                        |\n",
    "| largestmultikill        | Largest multi-kill                                           |\n",
    "| killingsprees           | Number of killing sprees                                     |\n",
    "| longesttimespentliving  | Longest time spent living                                    |\n",
    "| doublekills             | Number of double kills                                       |\n",
    "| triplekills             | Number of triple kills                                       |\n",
    "| quadrakills             | Number of quadra kills                                       |\n",
    "| pentakills              | Number of penta kills                                        |\n",
    "| legendarykills          | Number of legendary level kills                              |\n",
    "| totdmgdealt             | Total damage dealt                                           |\n",
    "| magicdmgdealt           | Magic damage dealt                                           |\n",
    "| physicaldmgdealt        | Physical damage dealt                                        |\n",
    "| truedmgdealt            | True damage dealt                                            |\n",
    "| largestcrit             | Largest critical strike                                      |\n",
    "| totdmgtochamp           | Total damage dealt to champions                              |\n",
    "| magicdmgtochamp         | Magic damage dealt to champions                              |\n",
    "| physdmgtochamp          | Physical damage dealt to champions                           |\n",
    "| truedmgtochamp          | True damage dealt to champions                               |\n",
    "| totheal                 | Total healing done                                           |\n",
    "| totunitshealed          | Total units healed                                           |\n",
    "| dmgselfmit              | Total damage self-mitigated                                  |\n",
    "| dmgtoobj                | Damage dealt to objectives                                   |\n",
    "| dmgtoturrets            | Damage dealt to turrets                                      |\n",
    "| visionscore             | Vision score                                                 |\n",
    "| timecc                  | Total time controlling enemy champions                       |\n",
    "| totdmgtaken             | Total damage taken                                           |\n",
    "| magicdmgtaken           | Magic damage taken                                           |\n",
    "| physdmgtaken            | Physical damage taken                                        |\n",
    "| truedmgtaken            | True damage taken                                            |\n",
    "| goldearned              | Total gold earned                                            |\n",
    "| goldspent               | Total gold spent                                             |\n",
    "| turretkills             | Number of turrets destroyed                                  |\n",
    "| inhibkills              | Number of inhibitors destroyed                               |\n",
    "| totminionskilled        | Total minions killed                                         |\n",
    "| neutralminionskilled    | Number of neutral minions killed                             |\n",
    "| ownjunglekills          | Number of jungle minions killed in player's own jungle       |\n",
    "| enemyjunglekills        | Number of jungle minions killed in enemy's jungle            |\n",
    "| totcctimedealt          | Total time of crowd control effects dealt to enemy champions (in milliseconds) |\n",
    "| champlvl                | Level of player's champion                                   |\n",
    "| pinksbought             | Number of pink vision wards bought                           |\n",
    "| wardsbought             | Number of vision wards bought (includes control wards and pink wards) |\n",
    "| wardsplaced             | Number of vision wards placed (includes control wards and pink wards) |\n",
    "| wardskilled             | Number of enemy vision wards destroyed (includes control wards and pink wards) |\n",
    "| firstblood              | First blood (0 = no, 1 = yes)                                |"
   ]
  },
  {
   "cell_type": "code",
   "execution_count": 6,
   "metadata": {},
   "outputs": [
    {
     "name": "stderr",
     "output_type": "stream",
     "text": [
      "2023-07-12 21:52:55,395 WARN util.package: Truncated the string representation of a plan since it was too large. This behavior can be adjusted by setting 'spark.sql.debug.maxToStringFields'.\n"
     ]
    },
    {
     "name": "stdout",
     "output_type": "stream",
     "text": [
      "+---+---+-----+-----+-----+-----+-----+-----+-------+-----+------+-------+-------------------+----------------+-------------+----------------------+-----------+-----------+-----------+----------+--------------+-----------+-------------+----------------+------------+-----------+-------------+---------------+--------------+--------------+-------+--------------+----------+--------+------------+-----------+------+-----------+-------------+------------+------------+----------+---------+-----------+----------+----------------+--------------------+--------------+----------------+--------------+--------+-----------+-----------+-----------+-----------+----------+\n",
      "| id|win|item1|item2|item3|item4|item5|item6|trinket|kills|deaths|assists|largestkillingspree|largestmultikill|killingsprees|longesttimespentliving|doublekills|triplekills|quadrakills|pentakills|legendarykills|totdmgdealt|magicdmgdealt|physicaldmgdealt|truedmgdealt|largestcrit|totdmgtochamp|magicdmgtochamp|physdmgtochamp|truedmgtochamp|totheal|totunitshealed|dmgselfmit|dmgtoobj|dmgtoturrets|visionscore|timecc|totdmgtaken|magicdmgtaken|physdmgtaken|truedmgtaken|goldearned|goldspent|turretkills|inhibkills|totminionskilled|neutralminionskilled|ownjunglekills|enemyjunglekills|totcctimedealt|champlvl|pinksbought|wardsbought|wardsplaced|wardskilled|firstblood|\n",
      "+---+---+-----+-----+-----+-----+-----+-----+-------+-----+------+-------+-------------------+----------------+-------------+----------------------+-----------+-----------+-----------+----------+--------------+-----------+-------------+----------------+------------+-----------+-------------+---------------+--------------+--------------+-------+--------------+----------+--------+------------+-----------+------+-----------+-------------+------------+------------+----------+---------+-----------+----------+----------------+--------------------+--------------+----------------+--------------+--------+-----------+-----------+-----------+-----------+----------+\n",
      "|  9|  0| 3748| 2003| 3111| 3053| 1419| 1042|   3340|    6|    10|      1|                  2|               2|            2|                   643|          2|          0|          0|         0|             0|      96980|        25154|           65433|        6392|          0|         9101|           3975|          4237|           888|  15160|             1|     23998|    1826|        1170|         14|     0|      41446|        13270|       24957|        3218|     10497|    10275|          0|         0|              42|                  69|            42|              27|           610|      13|          0|          0|         10|          0|         0|\n",
      "| 10|  0| 2301| 3111| 3190| 3107|    0|    0|   3364|    0|     2|     12|                  0|               0|            0|                  1116|          0|          0|          0|         0|             0|      25995|        17633|            6295|        2066|          0|         8478|           6684|           977|           816|  11707|             5|      9402|    1943|        1852|         30|     0|      17769|         7945|        7688|        2136|      9496|     7975|          1|         0|              17|                   1|             1|               0|           211|      14|          1|          0|         17|          3|         0|\n",
      "| 11|  0| 1055| 3072| 3006| 3031| 3046| 1036|   3340|    7|     8|      5|                  5|               2|            1|                   584|          2|          0|          0|         0|             0|     171568|         1725|          169576|         266|       1042|        14425|            331|         14070|            24|   2283|             2|     16612|    5094|        2128|         26|     0|      25627|        12538|       11094|        1993|     13136|    11775|          0|         0|             205|                   3|             1|               2|           182|      14|          1|          0|         13|          5|         0|\n",
      "+---+---+-----+-----+-----+-----+-----+-----+-------+-----+------+-------+-------------------+----------------+-------------+----------------------+-----------+-----------+-----------+----------+--------------+-----------+-------------+----------------+------------+-----------+-------------+---------------+--------------+--------------+-------+--------------+----------+--------+------------+-----------+------+-----------+-------------+------------+------------+----------+---------+-----------+----------+----------------+--------------------+--------------+----------------+--------------+--------+-----------+-----------+-----------+-----------+----------+\n",
      "only showing top 3 rows\n",
      "\n"
     ]
    }
   ],
   "source": [
    "stats1 = spark.read.csv(os_base + 'data/stats1.csv', header=True, inferSchema=True)\n",
    "stats2 = spark.read.csv(os_base + 'data/stats2.csv', header=True, inferSchema=True)\n",
    "stats = stats1.union(stats2)\n",
    "stats.show(3)"
   ]
  },
  {
   "attachments": {},
   "cell_type": "markdown",
   "metadata": {},
   "source": [
    "#### Data Join "
   ]
  },
  {
   "cell_type": "code",
   "execution_count": 7,
   "metadata": {},
   "outputs": [
    {
     "name": "stdout",
     "output_type": "stream",
     "text": [
      "root\n",
      " |-- id: integer (nullable = true)\n",
      " |-- matchid: integer (nullable = true)\n",
      " |-- player: integer (nullable = true)\n",
      " |-- championid: integer (nullable = true)\n",
      " |-- ss1: integer (nullable = true)\n",
      " |-- ss2: integer (nullable = true)\n",
      " |-- role: string (nullable = true)\n",
      " |-- position: string (nullable = true)\n",
      " |-- win: integer (nullable = true)\n",
      " |-- item1: integer (nullable = true)\n",
      " |-- item2: integer (nullable = true)\n",
      " |-- item3: integer (nullable = true)\n",
      " |-- item4: integer (nullable = true)\n",
      " |-- item5: integer (nullable = true)\n",
      " |-- item6: integer (nullable = true)\n",
      " |-- trinket: integer (nullable = true)\n",
      " |-- kills: integer (nullable = true)\n",
      " |-- deaths: integer (nullable = true)\n",
      " |-- assists: integer (nullable = true)\n",
      " |-- largestkillingspree: integer (nullable = true)\n",
      " |-- largestmultikill: integer (nullable = true)\n",
      " |-- killingsprees: integer (nullable = true)\n",
      " |-- longesttimespentliving: integer (nullable = true)\n",
      " |-- doublekills: integer (nullable = true)\n",
      " |-- triplekills: integer (nullable = true)\n",
      " |-- quadrakills: integer (nullable = true)\n",
      " |-- pentakills: integer (nullable = true)\n",
      " |-- legendarykills: integer (nullable = true)\n",
      " |-- totdmgdealt: integer (nullable = true)\n",
      " |-- magicdmgdealt: integer (nullable = true)\n",
      " |-- physicaldmgdealt: integer (nullable = true)\n",
      " |-- truedmgdealt: integer (nullable = true)\n",
      " |-- largestcrit: integer (nullable = true)\n",
      " |-- totdmgtochamp: integer (nullable = true)\n",
      " |-- magicdmgtochamp: integer (nullable = true)\n",
      " |-- physdmgtochamp: integer (nullable = true)\n",
      " |-- truedmgtochamp: integer (nullable = true)\n",
      " |-- totheal: integer (nullable = true)\n",
      " |-- totunitshealed: integer (nullable = true)\n",
      " |-- dmgselfmit: integer (nullable = true)\n",
      " |-- dmgtoobj: integer (nullable = true)\n",
      " |-- dmgtoturrets: integer (nullable = true)\n",
      " |-- visionscore: integer (nullable = true)\n",
      " |-- timecc: integer (nullable = true)\n",
      " |-- totdmgtaken: integer (nullable = true)\n",
      " |-- magicdmgtaken: integer (nullable = true)\n",
      " |-- physdmgtaken: integer (nullable = true)\n",
      " |-- truedmgtaken: integer (nullable = true)\n",
      " |-- goldearned: integer (nullable = true)\n",
      " |-- goldspent: integer (nullable = true)\n",
      " |-- turretkills: integer (nullable = true)\n",
      " |-- inhibkills: integer (nullable = true)\n",
      " |-- totminionskilled: integer (nullable = true)\n",
      " |-- neutralminionskilled: integer (nullable = true)\n",
      " |-- ownjunglekills: integer (nullable = true)\n",
      " |-- enemyjunglekills: integer (nullable = true)\n",
      " |-- totcctimedealt: integer (nullable = true)\n",
      " |-- champlvl: integer (nullable = true)\n",
      " |-- pinksbought: integer (nullable = true)\n",
      " |-- wardsbought: string (nullable = true)\n",
      " |-- wardsplaced: integer (nullable = true)\n",
      " |-- wardskilled: integer (nullable = true)\n",
      " |-- firstblood: integer (nullable = true)\n",
      " |-- name: string (nullable = true)\n",
      " |-- gameid: long (nullable = true)\n",
      " |-- platformid: string (nullable = true)\n",
      " |-- queueid: integer (nullable = true)\n",
      " |-- seasonid: integer (nullable = true)\n",
      " |-- duration: integer (nullable = true)\n",
      " |-- creation: long (nullable = true)\n",
      " |-- version: string (nullable = true)\n",
      "\n"
     ]
    }
   ],
   "source": [
    "df = participants.join(stats, on=[participants['id'] == stats['id']], how='left').drop(stats['id'])\n",
    "df = df.join(champs, on=[df['championid'] == champs['id']], how='left').drop(champs['id'])\n",
    "df = df.join(matches, on=[df['matchid'] == matches['id']], how='left').drop(matches['id'])\n",
    "\n",
    "df.printSchema()"
   ]
  },
  {
   "attachments": {},
   "cell_type": "markdown",
   "metadata": {},
   "source": [
    "#### Data preprocessing, clear NULL values, and attach default values"
   ]
  },
  {
   "cell_type": "code",
   "execution_count": 13,
   "metadata": {},
   "outputs": [
    {
     "name": "stderr",
     "output_type": "stream",
     "text": [
      "                                                                                \r"
     ]
    },
    {
     "name": "stdout",
     "output_type": "stream",
     "text": [
      "+---+-------+------+----------+---+---+----+--------+---+-----+-----+-----+-----+-----+-----+-------+-----+------+-------+-------------------+----------------+-------------+----------------------+-----------+-----------+-----------+----------+--------------+-----------+-------------+----------------+------------+-----------+-------------+---------------+--------------+--------------+-------+--------------+----------+--------+------------+-----------+------+-----------+-------------+------------+------------+----------+---------+-----------+----------+----------------+--------------------+--------------+----------------+--------------+--------+-----------+-----------+-----------+-----------+----------+----+------+----------+-------+--------+--------+--------+-------+\n",
      "| id|matchid|player|championid|ss1|ss2|role|position|win|item1|item2|item3|item4|item5|item6|trinket|kills|deaths|assists|largestkillingspree|largestmultikill|killingsprees|longesttimespentliving|doublekills|triplekills|quadrakills|pentakills|legendarykills|totdmgdealt|magicdmgdealt|physicaldmgdealt|truedmgdealt|largestcrit|totdmgtochamp|magicdmgtochamp|physdmgtochamp|truedmgtochamp|totheal|totunitshealed|dmgselfmit|dmgtoobj|dmgtoturrets|visionscore|timecc|totdmgtaken|magicdmgtaken|physdmgtaken|truedmgtaken|goldearned|goldspent|turretkills|inhibkills|totminionskilled|neutralminionskilled|ownjunglekills|enemyjunglekills|totcctimedealt|champlvl|pinksbought|wardsbought|wardsplaced|wardskilled|firstblood|name|gameid|platformid|queueid|seasonid|duration|creation|version|\n",
      "+---+-------+------+----------+---+---+----+--------+---+-----+-----+-----+-----+-----+-----+-------+-----+------+-------+-------------------+----------------+-------------+----------------------+-----------+-----------+-----------+----------+--------------+-----------+-------------+----------------+------------+-----------+-------------+---------------+--------------+--------------+-------+--------------+----------+--------+------------+-----------+------+-----------+-------------+------------+------------+----------+---------+-----------+----------+----------------+--------------------+--------------+----------------+--------------+--------+-----------+-----------+-----------+-----------+----------+----+------+----------+-------+--------+--------+--------+-------+\n",
      "|  0|      0|     0|         0|  0|  0|   0|       0|  3|    3|    3|    3|    3|    3|    3|      3|    3|     3|      3|                  3|               3|            3|                     3|          3|          3|          3|         3|             3|          3|            3|               3|           3|          3|            3|              3|             3|             3|      3|             3|         3|       3|           3|          3|     3|          3|            3|           3|           3|         3|        3|          3|         3|               3|                   3|             3|               3|             3|       3|          3|          3|          3|          3|         3|   0|     0|         0|      0|       0|       0|       0|      0|\n",
      "+---+-------+------+----------+---+---+----+--------+---+-----+-----+-----+-----+-----+-----+-------+-----+------+-------+-------------------+----------------+-------------+----------------------+-----------+-----------+-----------+----------+--------------+-----------+-------------+----------------+------------+-----------+-------------+---------------+--------------+--------------+-------+--------------+----------+--------+------------+-----------+------+-----------+-------------+------------+------------+----------+---------+-----------+----------+----------------+--------------------+--------------+----------------+--------------+--------+-----------+-----------+-----------+-----------+----------+----+------+----------+-------+--------+--------+--------+-------+\n",
      "\n"
     ]
    }
   ],
   "source": [
    "null_counts = df.select([spark_sum(col(c).isNull().cast(\"int\")).alias(c) for c in df.columns])\n",
    "\n",
    "null_counts.show()"
   ]
  },
  {
   "cell_type": "code",
   "execution_count": 14,
   "metadata": {},
   "outputs": [],
   "source": [
    "\n",
    "df = df.dropna()\n",
    "\n",
    "df = df.withColumn('wardsbought', when(col('wardsbought') == '\\\\N', 0).otherwise(col('wardsbought')))\n",
    "df = df.withColumn('wardsbought', col('wardsbought').cast('int'))"
   ]
  },
  {
   "cell_type": "code",
   "execution_count": 15,
   "metadata": {},
   "outputs": [
    {
     "name": "stderr",
     "output_type": "stream",
     "text": [
      "                                                                                \r"
     ]
    }
   ],
   "source": [
    "\n",
    "spark_df = df.withColumn(\n",
    "    \"adjposition\",\n",
    "    when(col(\"role\").isin([\"DUO_SUPPORT\", \"DUO_CARRY\"]), col(\"role\")).otherwise(col(\"position\"))\n",
    ")\n",
    "\n",
    "spark_df = spark_df.withColumn(\"team\", when(col(\"player\") <= 5, \"1\").otherwise(\"2\"))\n",
    "spark_df = spark_df.withColumn(\"team_role\", concat(col(\"team\"), lit(\" - \"), col(\"adjposition\")))\n",
    "\n",
    "team_roles = [\n",
    "    \"1 - MID\",\n",
    "    \"1 - TOP\",\n",
    "    \"1 - DUO_SUPPORT\",\n",
    "    \"1 - DUO_CARRY\",\n",
    "    \"1 - JUNGLE\",\n",
    "    \"2 - MID\",\n",
    "    \"2 - TOP\",\n",
    "    \"2 - DUO_SUPPORT\",\n",
    "    \"2 - DUO_CARRY\",\n",
    "    \"2 - JUNGLE\",\n",
    "]\n",
    "remove_index = []\n",
    "\n",
    "# Remove non-typical teams\n",
    "df_remove = (\n",
    "    spark_df.filter(col(\"team_role\").isin(team_roles))\n",
    "    .groupBy(\"matchid\", \"team_role\")\n",
    "    .agg(count(\"team_role\").alias(\"team_role_count\"))\n",
    "    .filter(col(\"team_role_count\") > 1)\n",
    "    .select(\"matchid\")\n",
    ")\n",
    "\n",
    "remove_index = [row[\"matchid\"] for row in df_remove.collect()]\n",
    "\n",
    "bot_matchids = (\n",
    "    spark_df.filter(col(\"adjposition\") == \"BOT\").select(\"matchid\").distinct()\n",
    ")\n",
    "\n",
    "remove_index.extend([row[\"matchid\"] for row in bot_matchids.collect()])\n",
    "remove_index = list(set(remove_index))\n",
    "\n",
    "spark_df = spark_df.filter(~col(\"matchid\").isin(remove_index))"
   ]
  },
  {
   "cell_type": "code",
   "execution_count": 16,
   "metadata": {},
   "outputs": [
    {
     "name": "stderr",
     "output_type": "stream",
     "text": [
      "2023-07-12 22:07:46,158 WARN scheduler.DAGScheduler: Broadcasting large task binary with size 1045.4 KiB\n",
      "2023-07-12 22:09:16,005 WARN scheduler.DAGScheduler: Broadcasting large task binary with size 2028.3 KiB\n",
      "                                                                                \r"
     ]
    }
   ],
   "source": [
    "# Calculate KDA\n",
    "spark_df = spark_df.withColumn(\n",
    "    \"KDA\",\n",
    "    when(col(\"deaths\") == 0, (col(\"kills\") + col(\"assists\")) / 0.5)\n",
    "    .otherwise((col(\"kills\") + col(\"assists\")) / col(\"deaths\")),\n",
    ")\n",
    "\n",
    "drop_columns = [\n",
    "    \"position\",\n",
    "    \"team\",\n",
    "    \"team_role\",\n",
    "    \"gameid\",\n",
    "    \"queueid\",\n",
    "    \"creation\",\n",
    "    \"role\",\n",
    "    \"wardsbought\",\n",
    "    \"name\",\n",
    "    \"platformid\",\n",
    "    \"version\",\n",
    "    \"adjposition\",\n",
    "    \"item1\",\n",
    "    \"item2\",\n",
    "    \"item3\",\n",
    "    \"item4\",\n",
    "    \"item5\",\n",
    "    \"item6\",\n",
    "    \"ss1\",\n",
    "    \"ss2\",\n",
    "]\n",
    "fea_df = spark_df.drop(*drop_columns)\n",
    "\n",
    "\n",
    "\n",
    "fea_df.coalesce(1).write.csv(\"file:///root/lol/spark_feature\", mode=\"overwrite\", header=True)"
   ]
  },
  {
   "cell_type": "code",
   "execution_count": 17,
   "metadata": {},
   "outputs": [
    {
     "name": "stderr",
     "output_type": "stream",
     "text": [
      "2023-07-12 22:15:20,890 WARN scheduler.DAGScheduler: Broadcasting large task binary with size 1045.4 KiB\n",
      "2023-07-12 22:15:33,103 WARN scheduler.DAGScheduler: Broadcasting large task binary with size 2036.2 KiB\n",
      "                                                                                \r"
     ]
    }
   ],
   "source": [
    "spark_df.coalesce(1).write.csv(\"file:///root/lol/total_clean_data\", mode=\"overwrite\", header=True)"
   ]
  },
  {
   "cell_type": "code",
   "execution_count": 8,
   "metadata": {},
   "outputs": [
    {
     "name": "stderr",
     "output_type": "stream",
     "text": [
      "                                                                                \r"
     ]
    }
   ],
   "source": [
    "# Group calculation of the number of wins, number of games, average number of kills, average number of deaths, and average number of assists for each hero\n",
    "champs_stats = spark_df.groupBy('name').agg(\n",
    "    spark_sum('win').alias('win'),\n",
    "    count('*').alias('total matches'),\n",
    "    mean('kills').alias('K'),\n",
    "    mean('deaths').alias('D'),\n",
    "    mean('assists').alias('A')\n",
    ")\n",
    "\n",
    "# Calculate the winning rate/probability and based on a 50% winning rate/probability\n",
    "champs_stats = champs_stats.withColumn('win rate(%)', col('win') / col('total matches') * 100)\n",
    "champs_stats = champs_stats.withColumn('win rate-50%', col('win rate(%)') - 50)\n",
    "\n",
    "champs_stats.coalesce(1).write.csv(\"file:///root/lol/champs_stats\", mode=\"overwrite\", header=True)"
   ]
  }
 ],
 "metadata": {
  "kernelspec": {
   "display_name": "arima_env",
   "language": "python",
   "name": "python3"
  },
  "language_info": {
   "codemirror_mode": {
    "name": "ipython",
    "version": 3
   },
   "file_extension": ".py",
   "mimetype": "text/x-python",
   "name": "python",
   "nbconvert_exporter": "python",
   "pygments_lexer": "ipython3",
   "version": "3.8.16 (default, Jan 17 2023, 23:13:24) \n[GCC 11.2.0]"
  },
  "orig_nbformat": 4,
  "vscode": {
   "interpreter": {
    "hash": "63ae9d3af67d210e35370c84b93fbf2c7e3d9f9391156017503a90fe9788c0ca"
   }
  }
 },
 "nbformat": 4,
 "nbformat_minor": 2
}
